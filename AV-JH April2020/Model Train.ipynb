{
 "cells": [
  {
   "cell_type": "code",
   "execution_count": 1,
   "metadata": {},
   "outputs": [],
   "source": [
    "import numpy as np\n",
    "import pandas as pd\n",
    "import time\n",
    "from sklearn.metrics import accuracy_score"
   ]
  },
  {
   "cell_type": "code",
   "execution_count": 2,
   "metadata": {},
   "outputs": [
    {
     "output_type": "execute_result",
     "data": {
      "text/plain": "  sessionId  duration                                  visited-Products  \\\n0    u16159      60.0                       [28435, 2554, 28436, 28437]   \n1    u10253     360.0  [29404, 2617, 29407, 29410, 29411, 25444, 29418]   \n2    u19037       1.0                                           [16944]   \n3    u14556     180.0                             [10284, 10285, 10286]   \n4    u24295     120.0                                    [30805, 30806]   \n\n   unique-Products     visited-Categories  unique-Categories  \\\n0                4           [2, 2, 2, 2]                  1   \n1                7  [1, 1, 1, 1, 1, 1, 1]                  1   \n2                1                    [2]                  1   \n3                3              [2, 2, 2]                  1   \n4                2                 [1, 1]                  1   \n\n  visited-Sub-categories  unique-Sub-Categories    visited-Sub-sub-categories  \\\n0           [3, 3, 3, 3]                      1                  [6, 6, 6, 6]   \n1  [9, 9, 9, 9, 9, 9, 9]                      1  [31, 31, 31, 31, 31, 31, 31]   \n2                    [1]                      1                          [20]   \n3              [4, 4, 4]                      1                  [18, 18, 18]   \n4                 [1, 1]                      1                      [12, 12]   \n\n   unique-Sub-sub-categories  gender  \n0                          1  female  \n1                          1    male  \n2                          1  female  \n3                          1  female  \n4                          1    male  ",
      "text/html": "<div>\n<style scoped>\n    .dataframe tbody tr th:only-of-type {\n        vertical-align: middle;\n    }\n\n    .dataframe tbody tr th {\n        vertical-align: top;\n    }\n\n    .dataframe thead th {\n        text-align: right;\n    }\n</style>\n<table border=\"1\" class=\"dataframe\">\n  <thead>\n    <tr style=\"text-align: right;\">\n      <th></th>\n      <th>sessionId</th>\n      <th>duration</th>\n      <th>visited-Products</th>\n      <th>unique-Products</th>\n      <th>visited-Categories</th>\n      <th>unique-Categories</th>\n      <th>visited-Sub-categories</th>\n      <th>unique-Sub-Categories</th>\n      <th>visited-Sub-sub-categories</th>\n      <th>unique-Sub-sub-categories</th>\n      <th>gender</th>\n    </tr>\n  </thead>\n  <tbody>\n    <tr>\n      <th>0</th>\n      <td>u16159</td>\n      <td>60.0</td>\n      <td>[28435, 2554, 28436, 28437]</td>\n      <td>4</td>\n      <td>[2, 2, 2, 2]</td>\n      <td>1</td>\n      <td>[3, 3, 3, 3]</td>\n      <td>1</td>\n      <td>[6, 6, 6, 6]</td>\n      <td>1</td>\n      <td>female</td>\n    </tr>\n    <tr>\n      <th>1</th>\n      <td>u10253</td>\n      <td>360.0</td>\n      <td>[29404, 2617, 29407, 29410, 29411, 25444, 29418]</td>\n      <td>7</td>\n      <td>[1, 1, 1, 1, 1, 1, 1]</td>\n      <td>1</td>\n      <td>[9, 9, 9, 9, 9, 9, 9]</td>\n      <td>1</td>\n      <td>[31, 31, 31, 31, 31, 31, 31]</td>\n      <td>1</td>\n      <td>male</td>\n    </tr>\n    <tr>\n      <th>2</th>\n      <td>u19037</td>\n      <td>1.0</td>\n      <td>[16944]</td>\n      <td>1</td>\n      <td>[2]</td>\n      <td>1</td>\n      <td>[1]</td>\n      <td>1</td>\n      <td>[20]</td>\n      <td>1</td>\n      <td>female</td>\n    </tr>\n    <tr>\n      <th>3</th>\n      <td>u14556</td>\n      <td>180.0</td>\n      <td>[10284, 10285, 10286]</td>\n      <td>3</td>\n      <td>[2, 2, 2]</td>\n      <td>1</td>\n      <td>[4, 4, 4]</td>\n      <td>1</td>\n      <td>[18, 18, 18]</td>\n      <td>1</td>\n      <td>female</td>\n    </tr>\n    <tr>\n      <th>4</th>\n      <td>u24295</td>\n      <td>120.0</td>\n      <td>[30805, 30806]</td>\n      <td>2</td>\n      <td>[1, 1]</td>\n      <td>1</td>\n      <td>[1, 1]</td>\n      <td>1</td>\n      <td>[12, 12]</td>\n      <td>1</td>\n      <td>male</td>\n    </tr>\n  </tbody>\n</table>\n</div>"
     },
     "metadata": {},
     "execution_count": 2
    }
   ],
   "source": [
    "columns = [\n",
    "    \"sessionId\",\n",
    "    \"duration\",\n",
    "    \"visited-Products\",\n",
    "    \"unique-Products\",\n",
    "    \"visited-Categories\",\n",
    "    \"unique-Categories\",\n",
    "    \"visited-Sub-categories\",\n",
    "    \"unique-Sub-Categories\",\n",
    "    \"visited-Sub-sub-categories\",\n",
    "    \"unique-Sub-sub-categories\",\n",
    "    \"gender\"\n",
    "]\n",
    "\n",
    "train = pd.read_csv(\"train_data.csv\")\n",
    "test = pd.read_csv(\"test_data.csv\")\n",
    "submission = pd.read_csv(\"sample_submission.csv\")\n",
    "\n",
    "train.head(5)"
   ]
  },
  {
   "cell_type": "code",
   "execution_count": 3,
   "metadata": {},
   "outputs": [],
   "source": [
    "train_features = train.iloc[:, [1,3,3,5,7,9]]\n",
    "train_labels = train.iloc[:, [-1]]\n",
    "\n",
    "test_features = test.iloc[:, [1,3,3,5,7,9]]\n",
    "test_labels = submission.iloc[:, [-1]]"
   ]
  },
  {
   "cell_type": "code",
   "execution_count": null,
   "metadata": {},
   "outputs": [],
   "source": []
  },
  {
   "cell_type": "code",
   "execution_count": null,
   "metadata": {},
   "outputs": [],
   "source": []
  },
  {
   "cell_type": "code",
   "execution_count": null,
   "metadata": {},
   "outputs": [],
   "source": []
  },
  {
   "cell_type": "code",
   "execution_count": null,
   "metadata": {},
   "outputs": [],
   "source": []
  },
  {
   "cell_type": "markdown",
   "metadata": {},
   "source": [
    "## Random Forest Classifier"
   ]
  },
  {
   "cell_type": "code",
   "execution_count": 4,
   "metadata": {},
   "outputs": [
    {
     "output_type": "stream",
     "name": "stdout",
     "text": "Results for Random Forest Classifier.\nTime took to fit samples:  0.810417652130127\nTime took to predict samples:  0.08538818359375\nAccuracy of this Model:  0.5071111111111111\n['female' 'female' 'female' ... 'male' 'female' 'female']\n"
    }
   ],
   "source": [
    "print(\"Results for Random Forest Classifier.\")\n",
    "from sklearn.ensemble import RandomForestClassifier\n",
    "\n",
    "clfRF = RandomForestClassifier()\n",
    "\n",
    "t0 = time.time()\n",
    "clfRF.fit(train_features, train_labels)\n",
    "t1 = time.time()\n",
    "print(\"Time took to fit samples: \", t1-t0)\n",
    "\n",
    "t0 = time.time()\n",
    "predRF = clfRF.predict(test_features)\n",
    "t1 = time.time()\n",
    "print(\"Time took to predict samples: \", t1-t0)\n",
    "\n",
    "accRF = accuracy_score(test_labels, predRF)\n",
    "print(\"Accuracy of this Model: \", accRF)\n",
    "\n",
    "print(predRF)"
   ]
  },
  {
   "cell_type": "markdown",
   "metadata": {},
   "source": [
    "## AdaBoost Classifier"
   ]
  },
  {
   "cell_type": "code",
   "execution_count": 5,
   "metadata": {},
   "outputs": [
    {
     "output_type": "stream",
     "name": "stdout",
     "text": "Results for AdaBoost Classifier.\nTime took to fit samples:  0.9406273365020752\nTime took to predict samples:  0.04102754592895508\nAccuracy of this Model:  0.5057777777777778\n['female' 'female' 'female' ... 'female' 'female' 'female']\n"
    }
   ],
   "source": [
    "print(\"Results for AdaBoost Classifier.\")\n",
    "from sklearn.ensemble import AdaBoostClassifier\n",
    "\n",
    "clfAB = AdaBoostClassifier()\n",
    "\n",
    "t0 = time.time()\n",
    "clfAB.fit(train_features, train_labels)\n",
    "t1 = time.time()\n",
    "print(\"Time took to fit samples: \", t1-t0)\n",
    "\n",
    "t0 = time.time()\n",
    "predAB = clfAB.predict(test_features)\n",
    "t1 = time.time()\n",
    "print(\"Time took to predict samples: \", t1-t0)\n",
    "\n",
    "accAB = accuracy_score(test_labels, predAB)\n",
    "print(\"Accuracy of this Model: \", accAB)\n",
    "\n",
    "print(predAB)"
   ]
  },
  {
   "cell_type": "markdown",
   "metadata": {},
   "source": [
    "## Decision Tree Classifier"
   ]
  },
  {
   "cell_type": "code",
   "execution_count": 6,
   "metadata": {},
   "outputs": [
    {
     "output_type": "stream",
     "name": "stdout",
     "text": "Results for Decision Tree Classifier.\nTime took to fit samples:  0.02501654624938965\nTime took to predict samples:  0.001001119613647461\nAccuracy of this Model:  0.5068888888888889\n['female' 'female' 'female' ... 'female' 'female' 'female']\n"
    }
   ],
   "source": [
    "print(\"Results for Decision Tree Classifier.\")\n",
    "from sklearn.tree import DecisionTreeClassifier\n",
    "\n",
    "clfDT = DecisionTreeClassifier(max_depth=5)\n",
    "\n",
    "t0 = time.time()\n",
    "clfDT.fit(train_features, train_labels)\n",
    "t1 = time.time()\n",
    "print(\"Time took to fit samples: \", t1-t0)\n",
    "\n",
    "t0 = time.time()\n",
    "predDT = clfDT.predict(test_features)\n",
    "t1 = time.time()\n",
    "print(\"Time took to predict samples: \", t1-t0)\n",
    "\n",
    "accDT = accuracy_score(test_labels, predDT)\n",
    "print(\"Accuracy of this Model: \", accDT)\n",
    "\n",
    "print(predDT)"
   ]
  },
  {
   "cell_type": "markdown",
   "metadata": {},
   "source": [
    "## Extreme Randomized Forest Classifier"
   ]
  },
  {
   "cell_type": "code",
   "execution_count": 7,
   "metadata": {},
   "outputs": [
    {
     "output_type": "stream",
     "name": "stdout",
     "text": "Results for Extreme Randomized Forest Classifier.\nTime took to fit samples:  0.030022621154785156\nTime took to predict samples:  0.0030028820037841797\nAccuracy of this Model:  0.5068888888888889\n['female' 'female' 'female' ... 'female' 'female' 'female']\n"
    }
   ],
   "source": [
    "print(\"Results for Extreme Randomized Forest Classifier.\")\n",
    "from sklearn.ensemble import ExtraTreesClassifier\n",
    "\n",
    "clfET = DecisionTreeClassifier(max_depth=5)\n",
    "\n",
    "t0 = time.time()\n",
    "clfET.fit(train_features, train_labels)\n",
    "t1 = time.time()\n",
    "print(\"Time took to fit samples: \", t1-t0)\n",
    "\n",
    "t0 = time.time()\n",
    "predET = clfET.predict(test_features)\n",
    "t1 = time.time()\n",
    "print(\"Time took to predict samples: \", t1-t0)\n",
    "\n",
    "accET = accuracy_score(test_labels, predET)\n",
    "print(\"Accuracy of this Model: \", accET)\n",
    "\n",
    "print(predET)"
   ]
  },
  {
   "cell_type": "markdown",
   "metadata": {},
   "source": [
    "## Support Vector Machines"
   ]
  },
  {
   "cell_type": "code",
   "execution_count": 8,
   "metadata": {},
   "outputs": [
    {
     "output_type": "stream",
     "name": "stdout",
     "text": "Results for Support Vector Classifier.\nTime took to fit samples:  2.2386271953582764\nTime took to predict samples:  0.5723893642425537\nAccuracy of this Model:  0.5057777777777778\n['female' 'female' 'female' ... 'female' 'female' 'female']\n"
    }
   ],
   "source": [
    "print(\"Results for Support Vector Classifier.\")\n",
    "from sklearn import svm\n",
    "\n",
    "clfSVM = svm.SVC()\n",
    "\n",
    "t0 = time.time()\n",
    "clfSVM.fit(train_features, train_labels)\n",
    "t1 = time.time()\n",
    "print(\"Time took to fit samples: \", t1-t0)\n",
    "\n",
    "t0 = time.time()\n",
    "predSVM = clfSVM.predict(test_features)\n",
    "t1 = time.time()\n",
    "print(\"Time took to predict samples: \", t1-t0)\n",
    "\n",
    "accSVM = accuracy_score(test_labels, predSVM)\n",
    "print(\"Accuracy of this Model: \", accSVM)\n",
    "\n",
    "print(predSVM)"
   ]
  },
  {
   "cell_type": "code",
   "execution_count": null,
   "metadata": {},
   "outputs": [],
   "source": []
  },
  {
   "cell_type": "code",
   "execution_count": null,
   "metadata": {},
   "outputs": [],
   "source": []
  },
  {
   "cell_type": "code",
   "execution_count": null,
   "metadata": {},
   "outputs": [],
   "source": []
  },
  {
   "cell_type": "code",
   "execution_count": null,
   "metadata": {},
   "outputs": [],
   "source": []
  },
  {
   "cell_type": "code",
   "execution_count": 10,
   "metadata": {},
   "outputs": [
    {
     "output_type": "execute_result",
     "data": {
      "text/plain": "  session_id  gender\n0     u12112  female\n1     u19725  female\n2     u11795  female\n3     u22639  female\n4     u18034  female",
      "text/html": "<div>\n<style scoped>\n    .dataframe tbody tr th:only-of-type {\n        vertical-align: middle;\n    }\n\n    .dataframe tbody tr th {\n        vertical-align: top;\n    }\n\n    .dataframe thead th {\n        text-align: right;\n    }\n</style>\n<table border=\"1\" class=\"dataframe\">\n  <thead>\n    <tr style=\"text-align: right;\">\n      <th></th>\n      <th>session_id</th>\n      <th>gender</th>\n    </tr>\n  </thead>\n  <tbody>\n    <tr>\n      <th>0</th>\n      <td>u12112</td>\n      <td>female</td>\n    </tr>\n    <tr>\n      <th>1</th>\n      <td>u19725</td>\n      <td>female</td>\n    </tr>\n    <tr>\n      <th>2</th>\n      <td>u11795</td>\n      <td>female</td>\n    </tr>\n    <tr>\n      <th>3</th>\n      <td>u22639</td>\n      <td>female</td>\n    </tr>\n    <tr>\n      <th>4</th>\n      <td>u18034</td>\n      <td>female</td>\n    </tr>\n  </tbody>\n</table>\n</div>"
     },
     "metadata": {},
     "execution_count": 10
    }
   ],
   "source": [
    "submission_pred = predRF\n",
    "session = submission['session_id']\n",
    "submit_dict = {\n",
    "    \"session_id\": session,\n",
    "    \"gender\": submission_pred\n",
    "}\n",
    "submit_data = pd.DataFrame(submit_dict)\n",
    "submit_data.to_csv(\"submit_data.csv\", index=False)\n",
    "submit_data.head()"
   ]
  },
  {
   "cell_type": "code",
   "execution_count": null,
   "metadata": {},
   "outputs": [],
   "source": []
  }
 ],
 "metadata": {
  "kernelspec": {
   "display_name": "Python 3",
   "language": "python",
   "name": "python3"
  },
  "language_info": {
   "codemirror_mode": {
    "name": "ipython",
    "version": 3
   },
   "file_extension": ".py",
   "mimetype": "text/x-python",
   "name": "python",
   "nbconvert_exporter": "python",
   "pygments_lexer": "ipython3",
   "version": "3.7.6-final"
  }
 },
 "nbformat": 4,
 "nbformat_minor": 4
}